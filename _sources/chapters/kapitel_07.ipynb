{
 "cells": [
  {
   "cell_type": "markdown",
   "id": "urban-defensive",
   "metadata": {},
   "source": [
    "# Klassifikation\n",
    "\n",
    "## Überblick\n",
    "\n",
    "Bei der Klassifikation geht es darum Kategorien zu Objekten zuzuweisen. Betrachten wir das Beispiel in {numref}`fig-class-example`. Das obere Bild zeigt einen Wal vor einem Eisberg. Das unsere Bild zeigt einen Bär in einem Wald. Beides erkennt man als menschlicher Betrachter instinktiv ohne darüber nachzudenken. Das Ziel der Klassifikation ist es diese Kategorisierung von Objekten automatisch durch eine Algorithmus durchführen zu lassen. Eine wichtige Einschränkung gegebenüber unserer menschlichen Kategoriesierung ist, das wir nur mit festen und im vorfeld festgelegten Kategorien arbeiten können Im Beispiel in {numref}`fig-class-example` könnten diese Kategorien zum Beispiel \"Wal\", \"Bär\" und \"Sonstiges\" sein. Die Klassifikationsaufgabe wäre dann die Zuweisung einer dieser drei Kategorien zu den Bilden. Die Kategorien, in die die Objekte eingeteilt werden, nennt man auch *Klassen*. \n",
    "\n",
    "```{figure} images/classification_example_german.png\n",
    "---\n",
    "width: 600px\n",
    "name: fig-class-example\n",
    "---\n",
    "Zuweisung der Kategorien Wal und Bär zu Bildern. \n",
    "```\n",
    "\n",
    "Etwas abstrakter können wir uns die Klassifikation wie in Abbildung {numref}`fig-class-abstract` vorstellen. Wir haben also Objekte für die wir ein *Konzept* kennen. Wenden wir unser Konzept auf die Objekte an, bekammen wir die Einteilung in Klassen. Wir kennen also ein Konzept das Wale beschreibt, welches wir auf das Bild wenden können um die Klasse zu bestimmen. \n",
    "\n",
    "```{figure} images/classification_concept_german.png\n",
    "---\n",
    "width: 600px\n",
    "name: fig-class-abstract\n",
    "---\n",
    "Abstraktes Konzept der Klassifikation\n",
    "```\n",
    "\n",
    "Das Ziel von Klassifikationsalgorithmen ist es eine *Hypothese* aus den Daten abzuleiten, mit der man die Klasse von Objekten anhand der Merkmale bestimmen kann. Als Beispiel betrachten wir das Bild des Wals durch die Merkmale ({numref}`fig-hypothesis`). Über diese Merkmale könnte man auf folgende Hypothese kommen: *Objekte mit Flossen, die eine ovale Form haben, welche oben schwarz und unten weiß sind und die sich vor einem blauen Hintergrund befinden, sind Wale*. Diese Hypothese mag zwar nicht in jedem Fall richtig sein, sie ist aber eine relativ gute Beschreibung, mit der man viele Wale (bzw. Orcas) richtig erkennt. Fehler würde man zum Beispiel machen, wenn es ein U-Boot mit einer ähnlichen Farbwal gäbe. Die Art der Hypothese, zum Beispiel ob es sich um einen logischen Ausdruck oder eine beliebige mathematische Funktion handelt, hängt von der Wal des Algorithmus ab. Die Hypothese selbst wird vom Lernalgorithmus automatisch aus den Daten bestimmt. \n",
    "\n",
    "```{figure} images/hypothesis_german.png\n",
    "---\n",
    "width: 600px\n",
    "name: fig-hypothesis\n",
    "---\n",
    "Abstraktes Konzept der Klassifikation\n",
    "```\n",
    "\n",
    "Formal haben wir eine Menge von Objekten $O = \\{object_1, object_2, ...\\}$ welche möglicherweise unendliche viele Elemente enthält. Außerdem haben wir eine Repräsentation der Objekte als Instanzen im Merkmalsraum $\\mathcal{F} = \\{\\phi(o): o \\in O\\}$ und eine endliche Anzahl von Klassen $C = \\{class_1, ..., class_n\\}$. Die Klassifikation wird durch ein *Zielkonzept* (engl. *target concept*) beschrieben, welches die Objekte auf ihre Klassen abbildet, also\n",
    "\n",
    "$$h^*: O \\to C.$$\n",
    " \n",
    "Das Zielkonzept ist die wahre Klasse der Objekte, also eine perfekte Zuweisung von Objekten zu Klassen. Im normalfall ist keine mathematische Beschreibung des Zielkonzepts bekannt. Es gibt zum Beispiel keine mathematische Beschreibung zur Klassifikation von Bildern in Walbilder und Bärenbilder. Die *Hypothese* bildet die Merkmale auf die Klassen ab, also\n",
    "\n",
    "$$h: \\mathcal{F} \\to C.$$\n",
    "\n",
    "Die Hypothese wird vom Klassifikationsalgorithmus so bestimmt, dass sie eine gute Approximation des Zielkonzept ist, also\n",
    "\n",
    "$$h^*(o) \\approx h(\\phi(o)).$$\n",
    "\n",
    "Eine Variante der Klassifikation ist die Berechnung von *Scores* für jede Klasse $c \\in C$. In diesem Fall haben wir Scoring-Funktionen\n",
    "\n",
    "$$h_c': \\mathcal{F} \\to \\mathbb{R}$$\n",
    "\n",
    "für jede Klasse. Die Scores sind ähnlich zum Soft Clustering: Anstatt das wir alle Instanzen genau einer Klasse zuweisen, bestimmen wir eine Wert für jede Klasse, den wir dann für die Entscheidungsfindung nutzen können. Im Normalfall wird dann die Klasse zugewiesen, die den höchsten Score hat. Wir haben also\n",
    "\n",
    "$$h(x) = \\arg\\max_{c \\in C} h_c'(x)$$ \n",
    "\n",
    "für $x \\in \\mathcal{F}$. Oft handelt es sich bei den Scores um Wahrscheinlichkeitsverteilungen, so dass der Score für jeder Klasse im Intervall $[0,1]$ liegt und die Summe der Scores aller Klasse 1 ergibt. In diesem Fall geben die Scores die Wahrscheinlichkeit an, dass ein Objekt zu einer bestimmten Klasse gehört. \n",
    "\n",
    "## Binäre Klassifikation und Grenzwerte\n",
    "\n",
    "Ein häufig betrachter Spezialfall der Klassifikation ist die binäre Klassifikation bei der es genau zwei Klassen gibt. Auch wenn es sich hierbei um eine starke Einschränkung handelt, gibt es viele Probleme die man mit Hilfe von binärer Klassifikation lösen kann. Beispiele hierfür sind die Vorhersage ob ein Schuldner einen Kredit abbezahlen kann, ob es sich bei einer Transaktion um Kreditkartenbetrug handelt, oder ob eine Email Spam ist.\n",
    "\n",
    "Bei der binären Klassifikation nennt man eine Klasse *Positiv* und die andere *Negativ*. Da es nur die zwei Klassen $C = \\{positive, negative\\}$ gibt, kann man das berechnen der Scores unter der Annahme das es sich bei den Scores um Wahrscheinlichkeiten handelt vereinfachen. Es gilt dann nämlich\n",
    "\n",
    "$$h_{negative}'(x) = 1-h_{positive}'(x)$$\n",
    "\n",
    "da die Summer der Wahrscheinlichkeiten 1 ergibt. Entsprechend reicht es auch nur die Scoring-Funktion für die positive Klasse zu berechnen und wir nutzen die Notation $h'(x) = h_{positive}'$ für die binäre Klassifikation. Jetzt können wir auch statt einfach die Klasse mit der höchsten Wahrscheinlichkeit auszuwählen einen *Grenzwert* $t \\in [0,1]$ festlegen, der für die positive Klasse erreicht sein muss. Wenn $h'(x) \\geq t$, it $x$ positiv, wenn der Score kleiner als der Grenzwert ist, ist $x$ negativ. Es gilt also\n",
    "\n",
    "$$h_t(x) = \\begin{cases}\\text{positive} & \\text{wenn}~h'(x) \\geq t \\\\ \\text{negative} & \\text{wenn}~h' < t\\end{cases}$$\n",
    "\n",
    "Warum Grenzwerte und Scoring-Funktionen relevant für die Klassifikation sind kann man sich gut an einem Beispiel verdeutlichen. Das Histogram unten zeigt fiktive Daten von Scores einer Spamerkennungs Klassifikation bei der positive Instanzen kein Spam sind. "
   ]
  },
  {
   "cell_type": "code",
   "execution_count": 31,
   "id": "exotic-beijing",
   "metadata": {
    "tags": [
     "hide-input"
    ]
   },
   "outputs": [
    {
     "data": {
      "image/png": "[encoded data removed]",
      "text/plain": [
       "<Figure size 432x288 with 1 Axes>"
      ]
     },
     "metadata": {
      "needs_background": "light"
     },
     "output_type": "display_data"
    }
   ],
   "source": [
    "import matplotlib.pyplot as plt\n",
    "\n",
    "from sklearn.datasets import make_blobs\n",
    "from sklearn.ensemble import RandomForestClassifier\n",
    "from sklearn.model_selection import train_test_split\n",
    "\n",
    "\n",
    "# generate sample data\n",
    "X, y = make_blobs(n_samples=300, centers=2, center_box=(0, 1),\n",
    "                  cluster_std=0.3, random_state=1)\n",
    "\n",
    "# split the data into 50% training data and 50% test data\n",
    "X_train, X_test, y_train, y_test = train_test_split(X, y, test_size=.5,\n",
    "                                                    random_state=0)\n",
    "\n",
    "# predict scores with a random forest\n",
    "classifier = RandomForestClassifier(random_state=0)\n",
    "y_score = classifier.fit(X_train, y_train).predict_proba(X_test)\n",
    "\n",
    "fig, ax = plt.subplots()\n",
    "ax.hist([y_score[y_test==1,1], y_score[y_test==0,1]], bins=10, label=['No Spam', 'Spam'])\n",
    "ax.set_xlim(0,1)\n",
    "ax.set_title('Histogram of predicted probabilities')\n",
    "ax.set_xlabel('Predicted probability')\n",
    "ax.set_ylabel('Frequency')\n",
    "ax.axvline(0.5, color='lightgray')\n",
    "ax.axvline(0.1, color='black')\n",
    "plt.legend(loc=\"upper center\")\n",
    "plt.show()"
   ]
  },
  {
   "cell_type": "markdown",
   "id": "interested-saturday",
   "metadata": {},
   "source": [
    "Die organen Balken zeigen die Scores von Spam-Emails, die blauen Balken die Scores aller regulären Emails. Wenn man keinen Grenzwert auswählt, würde man einfach die Klasse mit dem höchsten Score vorhersagen. Dies ist Äquivalent zu einem Grenzwert von 0,5, dargestellt durch die graue vertikale Linie. In diesem Beispiel würden wir also die meisten Emails richtig vorhersagen, aber auch eine Emails als Spam markieren, obwohl sie eigentlich kein Spam sind, und auch einige Emails nicht als Spam markieren, obwohl es sich um Spam handelt. Es handelt sich hier um unterschiedliche Arten von Fehlern, die für diesen Anwendungsfall nicht gleichwertig sind. Auch wenn Spam nervig ist, ist das löschen einer Email nicht sehr aufwändig, es sei denn man hat es mit hunderten oder gar tausenden von Spam-Emails zu tun. Wenn jedoch auch nur eine einzige wichtige Email ausversehen als Spam markiert und der Empfänger diese Email dadurch nicht angezeigt bekommt, kann dies große negative Konsequenzen haben. Dieses Problem können wir durch die Auswahl eines geeigneten Grenzwerts lösen. Die schwarze Linie markiert einen Grenzwert von 0,1. Mit diesem Grenzwert würde man nur Spam-Emails als solche Kennzeichnen. Als folge würde man zwar auch mehr Spam-Emails nicht erkennen, aber es würden keine regulären Emails durch den Spamfilter abgefangen. Dies zeigt das die Wahl eines geeigneten Grenzwerts den Unterschied zwischen einer guten Lösung für einen Anwendungsfall und einem ungeeignetem Modell machen kann. \n",
    "\n",
    "## Gütemaße\n",
    "\n",
    "Eine Kernfrage der Klassifikation ist wie gut die Hypothese $h$ das Zielkonzept $h^*$ approximiert. In der Regel erreicht man keine perfekte Lösung, es gibt also Instanzen die falsch durch die Hypothese klassifiziert werden. Das obige Spamerkennungsbeispiel zeigt bereits, das es unterschiedliche Arte von Fehlern gibt, die wir mit den Gütemaßen berücksichtigen müssen. \n",
    "\n",
    "Die Grundlage für die Bewertung der Güte von Klassifikationsalgorithmen sind Testdaten. Hierzu wird die Hypothese auf die Merkmale der Testdaten angewandt. Anschließend kann man die Vorhersageergebnisse mit der wahren Klasse vergleichen. Die folgende Tabelle zeigt dies am Beispiel der Wal- und Bärenbilder. \n",
    "\n",
    "| Form     | Farbe oben | Farbe unten | Hintergrundfarbe | Flossen | Klasse | Vorhersage |\n",
    "|----------|------------|-------------|------------------|---------|--------|------------|\n",
    "| Oval     | Schwarz    | Weiß        | Blau             | Ja      | Wal    | Wal        |\n",
    "| Rechteck | Braun      | Braun       | Grün             | Nein    | Bär    | Wal        |\n",
    "| ...      | ...        | ...         | ...              | ...     | ...    | ...        |\n",
    "\n",
    "Due erste Instanz wird korrekt vorhersagt, bei der zweiten Instanz macht unsere fiktive Hypothese einen Fehler. Wenn es tausende, oder sogar Millionen von Instanzen in den Testdaten gibt, ist es nicht machbar die Ergebnisse anhand einer solchen Tabelle auszuwerten. Stattdessen brauchen wir eine kompaktere Darstellung der Güte der Ergebnisse um die Vorhersagen mit den wahren Klassen zu vergleichen. \n",
    "\n",
    "### Die Confusion Matrix\n",
    "\n",
    "Das wichtigste Werkzeug für die Analyse der Qualität von Hypothesen ist die *Confusion Matrix*, eine tabellenartige Beschreibung der Häufigkeiten mit denen die Hypothese richtig liegt, bzw. Fehler macht, also verwirrt (engl. *confused*) ist. Die Confusion Matrix für unser Bildklassifikationsbeispiel könnte zum Beispiel so aussehen. \n",
    "\n",
    "<table>\n",
    "    <tr><td></td><td colspan=4><b>Wahre Klasse</b></td></tr>\n",
    "    <tr><td rowspan=4><br><br><b>Vorhersage</b></td><td><td><b>Wal</b></td><td><b>Bär</b></td><td><b>Sonstiges</b></td></tr>\n",
    "    <tr><td><b>Wal</b></td><td>29</td><td>1</td><td>3</td></tr>\n",
    "    <tr><td><b>Bär</b></td><td>2</td><td>22</td><td>13</td></tr>\n",
    "    <tr><td><b>Sonstiges</b></td><td>4</td><td>11</td><td>51</td></tr>\n",
    "</table>\n",
    "\n",
    "Im wesentlichen zählt die Confusion Matrix wir oft Instanzen einer bestimmte Klasse als welche Klasse vorhergesagt werden. Man sieht zum Beispiel wie oft Wale als Wale vorhergesagt werden und wie oft sie stattdessen als Bären oder Sonstiges klassifiziert werden. Die Spalten zeigen die wahren Werte der Instanzen, also das Zielkonzept. Die Zeilen zeigen die Vorhersagen, also die Hypothese. In unserem Beispiel haben wir 35 Bilder von Walen. Dies ist die Summe der Werte in der ersten Spalte. 29 diese Walbilder werden richtig klassifiziert, 2 werden fehlerhaft als Bären klassifiziert und 4 werden fehlerhaft als Sonstiges klassifiziert. Wir bekommen mit Hilfe der Confusion Matrix also ein genaues statistische Informationen darüber, wie die Instanzen einer Klasse klassifiziert werden. Die Werte auf der Diagonalen sind die richtigen Vorhersagen, die anderen Werte sind die Fehler. \n",
    "\n",
    "### Die Binäre Confusion Matrix\n",
    "\n",
    "Die binäre Confusion Matrix ist der Spezialfall der Confusion Matrix für binäre Klassifikationsprobleme. Im Allgemeinen sieht die binäre Confusion Matrix wie folgt aus:\n",
    "\n",
    "<table>\n",
    "    <tr><td></td><td colspan=3><b>Wahre Klasse</b></td></tr>\n",
    "    <tr><td rowspan=3><br><br><b>Vorhersage</b></td><td><td><b>Positiv / True</b></td><td><b>Negativ / False</b></td></tr>\n",
    "    <tr><td><b>Positiv / True</b></td><td>Richtig Positiv / True Positive (TP)</td><td> Falsch Positiv / False Positive (FP)</td></tr>\n",
    "    <tr><td><b>Negativ / False</b></td><td>Falsch Negativ / False Negative (FN)</td><td> Richtig Negativ / True Negative (TN)</td></tr>\n",
    "</table>\n",
    "\n",
    "Wir bekommen also abhängig davon ob der wahren Klasse und der Vorhersage die Anzahl der *richtig positiven* (engl. *true positive* / TP), *richtig negativen* (engl. *true negative* / TN), *falsch positiven* (engl. *false positive* / FP) und *falsch negativen* (*false negatives* / FN) Ergebnisse. Die binäre Confusion Matrix ist auch jenseits des maschinellen Lernens verbreitet, zum Beispiel in der Medizin zur Bewertung der Qualität von Tests. Aus der Medizin kommen auf die Begriffe des *Fehlers 1. Art* (engl. *type I error*) und *Fehlers 2. Art* (engl. *Type II Fehler*). Der Fehler 1. Art misst die Anzahl der falsch positiven. Das könnte zum Beispiel bedeuten, dass das Ergebnis eine Antigentests auf eine bestimmte Krankheit fälschlicherweise ein positives Ergebnis liefert, obwohl der Patient nicht erkrankt ist. Der Fehler 2. Art misst die Anzahl der falsch negativen. Dies würde zum Beispiel bedeuten, dass eine Krankheit von einem Antigentest übersehen wird, ob ein Patient erkrankt ist. \n",
    "\n",
    "### Binäre Gütemaße\n",
    "\n",
    "Mit Hilfe der binären Confusion Matrix können wir Gütemaße defininerne, welche die Güte einer Hypothese durch eine einzelne Zahl basierend auf einem statistischen Kriterium zusammenfassen. Es gibt viele derartige Gütemaße, die alle unterschiedliche Aspekte der Güte messen. Die folgende Tabelle listet elf derartige Gütemaße. \n",
    "\n",
    "| Metric | Description | Definition |\n",
    "|--------|-------------|------------|\n",
    "| True positive rate, recall, sensitivity | Prozentsatz der positiven Instanzen, die korrekt klassifiziert werden. | $TPR = \\frac{TP}{TP+FN}$ |\n",
    "| True negative rate, specificity | Prozentsatz der negativen Instanzen, die korrekt klassifiziert werden. | $TNR = \\frac{TN}{TN+FP}$ |\n",
    "| False negative rate | Prozentsatz der positiven Instanzen, die fehlerhaft als negativ klassifiziert werden. | $FNR = \\frac{FN}{FN+TP}$ |\n",
    "| False positive rate | Prozentsatz der negativen Instanzen, die fehlerhaft als positiv klassifiziert werden. | $FPR = \\frac{FP}{FP+TN}$ |\n",
    "| Positive predictive value, precision | Prozentsatz der positiven Vorhersagen, die korrekt sind. | $PPV = \\frac{TP}{TP+FP}$ |\n",
    "| Negative predictive value | Prozentsatz der negativen Vorhersagen, die korrekt sind. | $NPV = \\frac{TN}{TN+FN}$ |\n",
    "| False discovery rate | Prozentsatz der positiven Vorhersagen, die fehlerhaft sind und eigentlich negativ sein sollten. |$FDR = \\frac{FP}{TP+FP}$ |\n",
    "| False omission rate | Prozentsatz der negativen Vorhersagen, die fehlerhaft sind und eigentlich positiv sein sollten. | $FOR = \\frac{FN}{FN+TN}$ |\n",
    "| Accuracy | Prozentsatz der korrekten Vorhersagen.  | $accuracy = \\frac{TP+TN}{TP+TN+FP+FN}$ |\n",
    "| F1-Score | Harmonisches Mittel von $recall$ und $precision$. | $F_1 = 2\\cdot\\frac{precision \\cdot recall}{precision+recall}$ |\n",
    "| Matthews correlation coefficient (MCC) | Korrelation zwischen den Vorhersagen und den wahren Klassen. | $MCC = \\frac{TP\\cdot TN - FP\\cdot FN}{\\sqrt{(TP+FP)(TP+FN)(TN+FP)(TN+FN)}}$ |\n",
    "\n",
    "Da es so viele Gütemaße gibt, stellt sich die Frage welche man benutzen sollte. Die Auswertung von allen elf Gütemaßen gleichzeitg ist nicht sinnvoll. Viele Gütemaße sind stark miteinander korreliert und sie werden alle basierend auf den selben vier Werten (TP, FP, TN, FN) berechnet. Stattdessen sollte man die Logik hinter der Definition der Güßemaße nachvollziehen um zu verstehen welche für eine bestimmten Anwendungsfall geeignet sind. \n",
    "\n",
    "Die ersten vier Gütemaße berechnen den Anteil von richtigen, bzw. falschen Vorhersagen in Relation zu den wahren Werten. Hiermit kann man Fragen der Form \"wie viele positive/negative Instanzen sind korrekt klassifiziert\" beantworten. Die Kombination aus TPR und TNR ist sehr wichtig, da diese zwei Fragen beantworten, die für viele Anwendungsfälle von elementarer Bedeutung sind: Wie viele positive und wie viele negative Instanzen werden korrekt gefunden? Entsprechend sind Gütemaße gut geeignet um den Fehler 1. Art und den Fehler 2. Art zu schätzen. Die FPR und die FNR sind die Gegenstücke zur TNR und TPR und lassen sich auch direkt aus diesen berechnen als $FPR=1-TNR$, bzw. $FNR=1-TPR$. \n",
    "\n",
    "Die nächsten vor Gütemaße berechnen den Anteil von richtigen, bzw. falschen Vorhersagen in Relation zu den Vorhersagen. Hiermit kann man Fragen der Form \"wie viele ositive/negative Vorhersagen sind richtig klassifiziert\" beantworten. Der unterschied zu den ersten vier Gütemaßen liegt in Bezugsgröße, die hier nicht die wahren Klassen sondern die Vorhersagen sind. Ansonsten sind die Gütemaße ähnlich zu den ersten vier Gütemaßen. \n",
    "\n",
    "Eine gemeinsame Eigenschaft der ersten acht Gütemaße ist das sie niemals alleine benutzt werden. Mit andern Worten bedeutet dass, das man nie nur eines dieser Gütemaße als Optimierungskriterium wählen sollte. Der Grund ist, dass diese Metriken jeweils nur eine Spalte, bzw. Zeile der Confusion Matrix berücksichtigen. Wenn man zum Beispiel die TPR berechnet, werden hierfür nur die Werte aus der ersten Spalte der Confusion Matrix verwendet, die zweite Spalte wird ignoriert. Als konsequenz sind *triviale Hypothesen* ausreichend um ein optimales Ergebnis in nur eines des Gütemaße zu erreichen. Man nennt eine Hypothese trivial, wenn sie immer die selbe Klasse vorhersagt, für alle Instanzen. Ein Beispiel für eine triviale Hypothese ist $h^+(x) = true$ für alle $x \\in \\mathcal{F}$. Mit dieser Hypothese hätte man einen perfekten Wert für die FPR von 1. Die Hypothese ist jedoch nicht hilfreiche, da sie nichts über die Daten selbst aussagt. Um das zu vermeiden, muss man mehrere Kriterien verwenden, so dass mindestens drei Werte aus der Confusion Matrix verwendet werden. Mit $h+$ wären die TNR zum Beispiel 0, also so schlecht es geht. Mit der Kombination aus TPR und TNR verhindert man also, das man mit einer trivialen Hypothese ein optimales Ergebnis bekommt. \n",
    "\n",
    "Es gibt auch Gütemaße die nicht nur einzelne Aspekte der Güte betrachten, sondern die Güte als ganzes und daher als einziges Kriterium verwendet werden können. Die letzten drei Gütemaße sind Beispiele hierfür. Diese Metriken nutzen die komplette Confusion Matrix um die Güte einer Hypothese zu berechnen. Die Accuracy müsst den Anteil der Vorhersagen, die richtig sind. Dies ist ähnlich zu den ersten vier Gütemaßen, mit dem Unterschied das beide Klassen gleichzeitig betrachtet werden. Der Nachteil der Accuracy ist, dass sie im Fall von *Class Level Imbalance* zu irreführend sein kann. Man spricht von Class Level Imbalance, wenn es deutlich mehr Instanzen aus einer Klasse, als aus der anderen gibt. Wenn zum Beispiel 95% der Instanzen positiv sind, erreicht würde unsere triviale Hypothese $h^+$ bereits eine Accuracy von 95% erreichen. Dieser sehr gute Wert ist aber irreführend, da er nicht abbildet das alle negativen Instanzen falsch klassifiziert werden. Daher sollte man die Accuracy nur mit bedacht einsetzen und sicher stellen dass es etwa gleich viele Instanzen für alle Klassen gibt. \n",
    "\n",
    "Der F1-Score ist das *harmonische Mittel* aus dem TPR/Recall und dem PPV/Precision. Der F1-Score berücksichtigt also den Anteil der positiven Instanzen, die korrekt Klassifiziert sind und den Anteil der positiven Vorhersagen, die korrekt sind. Das harmonische Mittel ist eine alternative zum arithmetischen Mittel, mit dem man Verhältnisse gut Mitteln kann. Beim harmonischen Mittel wird der niedrigere Wert höher gewichtet. Der F1-Score basiert auf der Idee das es einen Trade-Off zwischen Recall und Precision gibt. Um den Recall zu erhöhen, müssen wir mehr Instanzen als positiv klassifizieren. Hierdurch bekommen wir in der Regel auf mehr falsch positive Instanzen, da es Fehler gibt. Durch den höheren Anteil an falsch positiven Ergebnissen reduziert sich die Precision. Da durch das harmonische Mittel der kleinere Wert überproportional in der Berechnung berücksichtig wird, strebt eine Optimierung des F1-Scores ähnlliche Werte für Recall und Precision an. \n",
    "\n",
    "Die letzte Metrik in der obigen Tabelle ist MCC, welcher die direkte Korrelation zwischen den wahren Werten und den Vorhersagen berechnet. Im wesentlichen misst MCC wie der Anteil der richtig positiven und richtig negativen Vorhersagen mit dem erwarteten Ergebnis korreliert ist. Der MCC ist robust gegen die Class Level Imbalance und liefert im Allgemeinen eine gute Schätzung der Güte. Der Nachteil des MCC ist, dass es keine einfache Interpretation gibt, die auch Laien zugänglich ist. Alle anderen Gütemaße kann man in wenigen Sätzen natürlicher Sprache erklären, für MCC gibt es keine ähnlich zugängliche Erklärung. Hierdurch ist es auch schwerer die Werte von MCC einzuordnen. Hinzu kommt, dass die Werte von MCC im Intervall nicht im Intervall $[0,1]$ liegen, sondern in $[-1, 1]$ da es sich im ein Korrelationsmaß handelt. Ein hoher negativer Wert bedeutet, dass die Hypothese das Gegenteil von erwarteten Ergebnissen vorhersagt. Je nach Kontext, können hohe negative Werte also auch gut sein, da man theorisch einfach alle Vorhersagen invertieren kann. Zusammenfassend können wir also sagen, dass MCC ein sehr robustes Gütemaß ist, die interpretation der Ergebnisse erfordert aber etwas Übung und Expertenwissen. \n",
    "\n",
    "### Die Receiver Operator Characteristic (ROC)\n",
    "\n",
    "Die oben diskutierten Gütemaße basieren alle aus der Confusion Matrix. Ein Nachteil der Confusion Matrix ist, dass diese die Scores nicht berücksichtigt. Man kann die Confusion Matrix für eine Scoring-Funktion $h'$ nur für einen festen Grenzwert $t$ berechnen. Wie sich die Confusion Matrix für verschiedene Werte von $t$ verändert kann man nicht ablesen. Hierzu kann man *Receiver Operator Characteristic* (ROC) Kurven einsetzen. Eine ROC Kurve representiert alle möglichen Werte für TPR und FPR, die für eine Scoring-Funktion $h'$ mit beliebigen Grenzwerten $t \\in [0,1]$ erreichen kann. Die ROC Kurve von unserem Spamerkennungsbeispiel sieht wie folgt aus. "
   ]
  },
  {
   "cell_type": "code",
   "execution_count": 32,
   "id": "ideal-jurisdiction",
   "metadata": {
    "tags": [
     "hide-input"
    ]
   },
   "outputs": [
    {
     "data": {
      "image/png": "[encoded data removed]",
      "text/plain": [
       "<Figure size 432x288 with 1 Axes>"
      ]
     },
     "metadata": {
      "needs_background": "light"
     },
     "output_type": "display_data"
    }
   ],
   "source": [
    "from sklearn.metrics import roc_curve, auc\n",
    "\n",
    "fpr, tpr, t = roc_curve(y_test, y_score[:,1])\n",
    "roc_auc = auc(fpr, tpr)\n",
    "\n",
    "# Plot ROC Curve\n",
    "fig, ax = plt.subplots()\n",
    "ax.plot(fpr, tpr, color='darkorange',\n",
    "         lw=2, label='ROC curve (AUC = %0.2f)' % roc_auc)\n",
    "ax.set_xlim([0.0, 1.0])\n",
    "ax.set_ylim([0.0, 1.05])\n",
    "ax.set_xlabel('False Positive Rate (FPR)')\n",
    "ax.set_ylabel('True Positive Rate (TPR)')\n",
    "ax.set_title('Example of a ROC curve')\n",
    "plt.show()"
   ]
  },
  {
   "cell_type": "markdown",
   "id": "recreational-jackson",
   "metadata": {},
   "source": [
    "Die ROC Kurve zeigt die FPR auf der x-Achse und die TPR auf der y-Achse an. Man sieht alle möglichen Verhältnisse von FPR und TPR die man mit verschiedenen Grenzwerten erreichen kann. Da eine Hypothese eine hohe TPR und eine niedrige FPR erreichen sollte, liegt die optimale Güte in der oberen linken Ecke der ROC Kurve, wo die FPR 0 und die TPR 1 ist. Dies wäre ein perfektes Ergebnis ohne Fehlklassifikationen. Die ROC Kurve ist ein gutes Werkzeug um eine gute Kombination aus TPR und FPR für einen Anwendungsfall auszuwählen. Wenn wir zum Beispiel eine TPR von mindestens 0,8 erreichen wollen, können wir sehen das wir hierfür eine FPR von 0,05 in kauf nehmen müssen. Dies ist in der folgenden Grafik mit einem Kreis markiert. "
   ]
  },
  {
   "cell_type": "code",
   "execution_count": 33,
   "id": "received-premium",
   "metadata": {
    "tags": [
     "hide-input"
    ]
   },
   "outputs": [
    {
     "data": {
      "image/png": "[encoded data removed]",
      "text/plain": [
       "<Figure size 432x288 with 1 Axes>"
      ]
     },
     "metadata": {
      "needs_background": "light"
     },
     "output_type": "display_data"
    }
   ],
   "source": [
    "index = 0\n",
    "while tpr[index]<0.8:\n",
    "    index += 1\n",
    "\n",
    "# Plot ROC Curve\n",
    "fig,ax = plt.subplots()\n",
    "ax.plot(fpr, tpr, color='darkorange',\n",
    "         lw=lw, label='ROC curve (AUC = %0.2f)' % roc_auc)\n",
    "ax.scatter(fpr[index], tpr[index], color='black', marker='o')\n",
    "ax.set_xlim([0.0, 1.0])\n",
    "ax.set_ylim([0.0, 1.05])\n",
    "ax.set_xlabel('False Positive Rate (FPR)')\n",
    "ax.set_ylabel('True Positive Rate (TPR)')\n",
    "ax.set_title('Optimal threshold: t=%.2f (TPR=%.2f, FPR=%.2f)' % (t[index], tpr[index], fpr[index]))\n",
    "plt.show()"
   ]
  },
  {
   "cell_type": "markdown",
   "id": "constant-fusion",
   "metadata": {
    "tags": [
     "remove_cell"
    ]
   },
   "source": [
    "### Area Under the Curve (AUC)\n",
    "\n",
    "The Area Under the Curve (AUC) is a performance metric based on the ROC curve. The ROC curve is a great tool for the visual analysis of the impact of different thresholds as well as for the selection of suitable thresholds if there is a desired goal for the TPR or FPR. The AUC computes a single value based on the ROC curve that estimates how well the hypothesis performs independent of any specific threshold. The idea behind the AUC is quite simple. If the best combinations of TPR and FPR are in the upper-left corner of the ROC curve, this means that the performance is better if the area under the curve increases. Thus, if we integrate the area under the ROC curve, we can estimate how well a classifier performs. Hence, the name: we have the area under the (ROC) curve. "
   ]
  }
 ],
 "metadata": {
  "kernelspec": {
   "display_name": "Python 3",
   "language": "python",
   "name": "python3"
  },
  "language_info": {
   "codemirror_mode": {
    "name": "ipython",
    "version": 3
   },
   "file_extension": ".py",
   "mimetype": "text/x-python",
   "name": "python",
   "nbconvert_exporter": "python",
   "pygments_lexer": "ipython3",
   "version": "3.8.5"
  }
 },
 "nbformat": 4,
 "nbformat_minor": 5
}
