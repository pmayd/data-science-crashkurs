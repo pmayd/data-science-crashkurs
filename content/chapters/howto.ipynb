{
 "cells": [
  {
   "cell_type": "markdown",
   "id": "exposed-difference",
   "metadata": {},
   "source": [
    "# Selber Ausführen\n",
    "\n",
    "Das Buch ist so geschrieben, das nicht nur alle Quelltextbeispiele vorhanden sind. Es ist sogar möglich sich das komplette Buch runterzuladen und alles selbst auszuführen, anzupassen, und mit den Beispielen zu experimentieren. Hier ist eine kurze Erklärung, wie das unter Linux (getestet mit Ubuntu 20.04) geht. Windowsnutzer müssen entweder Python unter Windows installieren oder - wie ich selbst - mit dem Windows Subsystem for Linux (WSL) arbeiten [^wsl]. \n",
    "\n",
    "1. Wir beginnen mit dem Installieren der benötigten Linuxpakete. Python sollte bereits installiert sein (mindestens Version 3.6). Wir brauchen noch eine virtuelle Umgebung für Python (`venv` genannt). Außerdem wird noch Graphviz benötigt, jedoch nur für das Zeichnen der Struktur des Neuronalen Netzes in [Kapitel 7](kapitel_07).\n",
    "   ```\n",
    "   sudo apt-get update\n",
    "   sudo apt-get install python3-venv graphviz\n",
    "   ```\n",
    "2. Jetzt können wir Inhalte runterladen, entpacken und in den Ordner wechseln. \n",
    "   ```\n",
    "   cd ~\n",
    "   wget https://github.com/sherbold/einfuehrung-in-data-science/archive/refs/heads/main.zip\n",
    "   unzip main.zip\n",
    "   cd einfuehrung-in-data-science-main\n",
    "   ```\n",
    "3. Jetzt können wir uns in diesem Ordner eine virtuelle Pythonumgebung erstellen, aktivieren und die benötigten Pythonpakete installieren. \n",
    "   ```\n",
    "   python3 -m venv venv\n",
    "   source venv/bin/activate\n",
    "   pip install -r requirements.txt\n",
    "   ```\n",
    "4. Jetzt muss noch noch das Jupyter Lab gestartet werden.\n",
    "   ```\n",
    "   cd content\n",
    "   juypter-lab\n",
    "   ```\n",
    "5. Fertig! Jetzt können wir das Juypter Lab im Browser öffnen (der Link wird ja angezeigt) und sehen die Jupyter Notebooks für alle Kapitel, mit denen wir alles selbst ausprobieren können. Die Daten für die Übungen sind auch direkt mitgeliefert. \n",
    "\n",
    "Wenn wir fertig sind, können wir die Notebooks einfach schließen und mit `Strg+C` das Jupyter Lab im Terminal beenden. Beim nächsten Starten müssen wir nur in den Ordner wechseln, die `venv` aktivieren, und können dann direkt das Jupyter Lab starten.\n",
    "```\n",
    "cd ~\n",
    "cd einfuehrung-in-data-science-main/content\n",
    "source venv/bin/activate\n",
    "jupyter-lab\n",
    "```\n",
    "\n",
    "[^wsl]: https://ubuntu.com/wsl"
   ]
  }
 ],
 "metadata": {
  "kernelspec": {
   "display_name": "Python 3",
   "language": "python",
   "name": "python3"
  },
  "language_info": {
   "codemirror_mode": {
    "name": "ipython",
    "version": 3
   },
   "file_extension": ".py",
   "mimetype": "text/x-python",
   "name": "python",
   "nbconvert_exporter": "python",
   "pygments_lexer": "ipython3",
   "version": "3.8.5"
  }
 },
 "nbformat": 4,
 "nbformat_minor": 5
}
