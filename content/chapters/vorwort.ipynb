{
 "cells": [
  {
   "cell_type": "markdown",
   "id": "complex-stadium",
   "metadata": {},
   "source": [
    "# Vorwort\n",
    "\n",
    "Willkommen beim Data Science Crash Kurs. Wenn Sie bereits oft etwas von Big Data, maschinellem Lernen, der künstlichen Intelligenz oder Data Science gehört haben, und wissen wollen welche Methoden sich hinter diesen Begriffen verstecken, sind Sie hier genau richtig. Dieses Buch richtet sich an alle, die mehr über die Möglichkeiten der Datenanalyse lernen wollen, ohne gleich Tief in die Theorie oder bestimmte Methoden einzusteigen. Auch wenn Sie sich am besten bereits in der Informatik und/oder Mathematik etwas auskennen, kann man den Großteil auch verstehen, wenn man sich einfach nur für Daten interesiert und vor Mathe in der Schule keine Angst hatte. \n",
    "\n",
    "Wir fangen an, in dem wir die Definitionen der Begriffe einführen und dann betrachten, wie Data Science Projekte üblicherweise ablaufen. Dann gehts los mit den Daten. Zuerst lernen wir die Daten selbst mit Hilfe von Statistiken und Visualisierungen kennen. Dann gehts einmal quer durch die Welt der Algorithmik: Assoziationsregeln zum Auffinden von Beziehungen, Clustering um Gruppen ähnlicher Daten zu finden, Klassifikation um Kategorien zuzuweisen, Regression um zusammenhänge zu lernen, Zeitreihenanalyse um zeitliche Zusammenhänge auszunutzen. Im letzten Teil betrachten wir wie wir Texte zu Zahlen werden lassen, mit denen wir rechnen können, welche Rolle die Statistik für die Bewertung von Ergebnissen spielt, und wie man mit Big Data arbeiten kann. \n",
    "\n",
    "Wenn Sie wollen, können sie sich nur mit den Methoden beschäftigen. Im ganzen Buch befinden sich aber Quelltextbeispiele, mit denen Sie alles selbst nachvollziehen können. Im Anhang wird erklärt, wie sie sich das Buch auf ihrem eigenen Rechner \"installieren\" um alles interaktiv selbst auszuführen. "
   ]
  }
 ],
 "metadata": {
  "kernelspec": {
   "display_name": "Python 3",
   "language": "python",
   "name": "python3"
  },
  "language_info": {
   "codemirror_mode": {
    "name": "ipython",
    "version": 3
   },
   "file_extension": ".py",
   "mimetype": "text/x-python",
   "name": "python",
   "nbconvert_exporter": "python",
   "pygments_lexer": "ipython3",
   "version": "3.8.5"
  }
 },
 "nbformat": 4,
 "nbformat_minor": 5
}
