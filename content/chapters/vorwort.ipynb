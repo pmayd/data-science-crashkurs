{
 "cells": [
  {
   "cell_type": "markdown",
   "id": "comparative-sydney",
   "metadata": {},
   "source": [
    "# Vorwort\n",
    "\n",
    "Willkommen beim Data Science Crash Kurs. Wenn Sie bereits oft etwas von Big Data, maschinellem Lernen, der künstlichen Intelligenz oder Data Science gehört haben, und wissen wollen welche Methoden sich hinter diesen Begriffen verstecken, sind Sie hier genau richtig. Dieses Buch richtet sich an alle, die mehr über die Möglichkeiten der Datenanalyse lernen wollen, ohne gleich Tief in die Theorie oder bestimmte Methoden einzusteigen. Auch wenn Sie sich am besten bereits in der Informatik und/oder Mathematik etwas auskennen, kann man den Großteil auch verstehen, wenn man sich einfach nur für Daten interesiert und vor Mathe in der Schule keine Angst hatte. \n",
    "\n",
    "Wir fangen an, in dem wir die Definitionen der Begriffe einführen und dann betrachten, wie Data Science Projekte üblicherweise ablaufen. Dann gehts los mit den Daten. Zuerst lernen wir die Daten selbst mit Hilfe von Statistiken und Visualisierungen kennen. Dann gehts einmal quer durch die Welt der Algorithmik: Assoziationsregeln zum Auffinden von Beziehungen, Clustering um Gruppen ähnlicher Daten zu finden, Klassifikation um Kategorien zuzuweisen, Regression um zusammenhänge zu lernen, Zeitreihenanalyse um zeitliche Zusammenhänge auszunutzen. Im letzten Teil betrachten wir wie wir Texte zu Zahlen werden lassen, mit denen wir rechnen können, welche Rolle die Statistik für die Bewertung von Ergebnissen spielt, und wie man mit Big Data arbeiten kann. \n",
    "\n",
    "Wenn Sie wollen, können sie sich nur mit den Methoden beschäftigen. Alle Methoden werden aber auch praktisch demonstriert: Im ganzen Buch befinden sich aber Quelltextbeispiele und das Ergebnis der Ausgabe. Hierdurch können Sie gleichzeit verstehen, welche Methoden es gibt und wie sie diese Anwenden. Das Buch selbst wurde komplett mithilfe von *Jupyter Notebooks* geschrieben. In diesen Notebooks können sie direkt im Webbrowser den Quelltext selbst ausführen um die Ergebnisse interaktiv nachzuvollziehen. Sie können den Quelltext hierbei auch beliebig anpassen, zum Beispiel um besser zu verstehen was passiert, wenn sich Parameter eines Modells ändern. Im Anhang wird erklärt, wie sie sich das Buch auf ihrem eigenen Rechnen \"installieren\". \n",
    "\n",
    "Am Ende von der meisten Kapitel gibt es praktische Übungen, die Sie zur Vertiefung und für ein besseres Verständnis, bearbeiten können. Beispiellösungen für diese Aufgaben können Sie sich in der Onlineversion des Buchs angucken [^online]. Wenn sie mal unterwegs sind, können Sie auch einfach in der Onlineversion weiterlesen. Für einige Kapitel gibt es keine Übungen. In den Kapiteln handelt es sich großteils um Definitionen (Kapitel 1 und 2) oder einen Ausblick (Kapitel 13). Bei Kapitel 12 wird eine Big Data Umgebung benötigt. Auch wenn man hierfür kleinere Beispiele definieren könnten, müssten sowohl eine Python, als auch eine Java-Umgebung für eine Übung eingerichtet und passend konfiguriert werden, was über den bei einem Crashkurs angebrachten Aufwand hinaus geht. \n",
    "\n",
    "An einigen Stellen gibt es im Buch auch Fußnoten mit Links zu weiterführenden Informationen. Diese sind in der Regel auf Englischsprachlichen Webseiten oder in der Fachliteratur zu finden. Zur Fachliteratur wird mit Hilfe von *Document Object Identifiern* (DOIs) verlinkt: Dies sind persistente Identifier, die auch in vielen Jahren noch funktionieren sollten und zu den Homepages der Verlage weiterleiten. \n",
    "\n",
    "Der Fokus des Buchs liegt darauf, wie Analysen für Daten erstellt werden. Drei für die Anwendung wichtige Aspekte betrachten wir nicht: Wie man Daten sammelt, wie man Daten aus einer Datenbank laden kann und den operativen Einsatz von erstellten Analysen. Das Daten sammeln ist von Anwendungsfall zu Anwendungsfall verschieden. Oft liegen schon Daten vor. Andernfalls muss individuell basierend auf der Problemstellung eine Lösung entwicklet werden. Das Laden von Daten hängt vom Datenformat ab. Bei kleineres Projekten werden häufig CSV Dateien verwendet, wie wir es in den Übungen machen. Aber auch andere Formate wie JSON sind bei Dateien üblich. Hier muss man einfach bei den Bibliotheken nach den entsprechenden Möglichkeiten zum Laden suchen. Im Fall von Datenbanken kann man die Daten häufig mit der Anfragesprache SQL laden. SQL ist für sich genommen jedoch bereits das Thema was ganze Bücher füllt. Da das Laden von Daten für unseren Crashkurs sekundär ist, verzichten wir daher auf eine Einführung in Datenbanken und SQL. Beim operativen Einsatz geht es nicht nur um die Modelle und ihre Güte, sondern auch darum, wie diese in ein Softwaresystem eingebunden werden, wie dieses System getestet wird, und wie hiermit bei einer Continuous Integration umgegangen wird. Hierbei handelt es sich um für die Softwaretechnik wesentliche Fragen, die jedoch die Analysen nicht direkt beeinflussen. \n",
    "\n",
    "In diesem Buch verwenden wir vorwiegend die weibliche Bezeichnung von Rollen. Die Ausnahme ist die Rolle des Data Scientists. Im Englischen ist das Wort geschlechtslos und die Begriffe \"Scientistin\" oder \"die Data Scientists\" klingen eher komisch. \n",
    "\n",
    "[^online]: https://data-science-crashkurs.de"
   ]
  }
 ],
 "metadata": {
  "kernelspec": {
   "display_name": "Python 3",
   "language": "python",
   "name": "python3"
  },
  "language_info": {
   "codemirror_mode": {
    "name": "ipython",
    "version": 3
   },
   "file_extension": ".py",
   "mimetype": "text/x-python",
   "name": "python",
   "nbconvert_exporter": "python",
   "pygments_lexer": "ipython3",
   "version": "3.8.5"
  }
 },
 "nbformat": 4,
 "nbformat_minor": 5
}
