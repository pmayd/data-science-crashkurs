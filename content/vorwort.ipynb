{
 "cells": [
  {
   "cell_type": "markdown",
   "id": "breeding-regression",
   "metadata": {},
   "source": [
    "# Vorwort\n",
    "\n",
    "Hier entsteht mein neues Data Science Buch. Erstmal gibts hier nur das Skelett fürs Jupyter Book, der Rest folgt im Laufe der Zeit. "
   ]
  }
 ],
 "metadata": {
  "kernelspec": {
   "display_name": "Python 3",
   "language": "python",
   "name": "python3"
  },
  "language_info": {
   "codemirror_mode": {
    "name": "ipython",
    "version": 3
   },
   "file_extension": ".py",
   "mimetype": "text/x-python",
   "name": "python",
   "nbconvert_exporter": "python",
   "pygments_lexer": "ipython3",
   "version": "3.8.5"
  }
 },
 "nbformat": 4,
 "nbformat_minor": 5
}
