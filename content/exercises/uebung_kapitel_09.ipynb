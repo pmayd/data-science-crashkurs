{
 "cells": [
  {
   "cell_type": "markdown",
   "id": "c0efe4f5-d468-4c7d-b0b0-43f8fc1fbf2e",
   "metadata": {},
   "source": [
    "## Übung zu Kapitel 9\n",
    "\n",
    "Mit dieser Übung wollen wir unsere Kenntnisse der Zeitreihenanalyse vertiefen, indem wir die Methoden aus diesem Kapitel anwenden. Als Daten verwenden wir den [Umsatz von Online- und Versandshops von 2002 bis 2014 aus den USA](https://data-science-crashkurs.de/exercises/data/online_and_mail_shopping.csv). \n",
    "\n",
    "### Trend- und Saisonbereinigung\n",
    "\n",
    "Laden Sie die Daten. Verwenden Sie sowohl die lineare Regression und saisonale Mittel als auch Differencing, um den Trend und die saisonalen Effekte zu bereinigen. Vergleichen Sie die Ergebnisse mithilfe von Visualisierungen."
   ]
  },
  {
   "cell_type": "code",
   "execution_count": null,
   "id": "2b91cc99-bc24-408b-82fd-feb48145107d",
   "metadata": {},
   "outputs": [],
   "source": []
  },
  {
   "cell_type": "markdown",
   "id": "557a0128-d56a-4135-9da6-55a013cda194",
   "metadata": {},
   "source": [
    "### Vorhersagen mit ARMA\n",
    "\n",
    "Trainieren Sie ein ARMA-Modell mit geeigneten Parametern für $p$ und $q$ für beide Varianten der trend- und saisonbereinigten Daten. Entfernen Sie für das Training die Daten aus dem Jahr 2013. Benutzen Sie anschließend die Modelle, um Werte für das Jahr 2013 vorherzusagen, und visualisieren Sie den Unterschied zwischen den Vorhersagen und den wahren Werten. Dieser Vergleich sollte nicht nur die autoregressive Komponente ($R_t$), sondern die echten Werte $x_t = T_t+S_t+R_t$ berücksichtigen. Hierzu müssen Sie die saisonalen Effekte und den Trend auf die Vorhersage aus dem ARMA-Modell addieren."
   ]
  },
  {
   "cell_type": "code",
   "execution_count": null,
   "id": "850c7ee7-09f5-40bf-9054-717df509079d",
   "metadata": {},
   "outputs": [],
   "source": []
  }
 ],
 "metadata": {
  "kernelspec": {
   "display_name": "Python 3 (ipykernel)",
   "language": "python",
   "name": "python3"
  },
  "language_info": {
   "codemirror_mode": {
    "name": "ipython",
    "version": 3
   },
   "file_extension": ".py",
   "mimetype": "text/x-python",
   "name": "python",
   "nbconvert_exporter": "python",
   "pygments_lexer": "ipython3",
   "version": "3.8.10"
  }
 },
 "nbformat": 4,
 "nbformat_minor": 5
}
