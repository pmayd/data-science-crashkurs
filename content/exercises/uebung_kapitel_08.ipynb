{
 "cells": [
  {
   "cell_type": "markdown",
   "id": "11ef8a87-92bd-4d8f-b1f8-f579bf7524eb",
   "metadata": {},
   "source": [
    "## Übung zu Kapitel 8\n",
    "\n",
    "In dieser Übung vertiefen wir die Regression. Hierzu vergleichen wir die Varianten der linearen Regression auf einem Datensatz und bewerten die Güte. Außerdem versuchen wir, die Modelle anhand der Koeffizienten zu verstehen. Als [Daten verwenden wir wieder Hauspreise](https://scikit-learn.org/stable/modules/generated/sklearn.datasets.fetch_california_housing.html#sklearn.datasets.fetch_california_housing), nur diesmal aus Kalifornien.\n",
    "\n",
    "### Trainings- und Testdaten\n",
    "\n",
    "Laden Sie die Daten. Teilen Sie die Daten so auf, dass Sie 50% der Daten zum Training und 50% der Daten zum Testen verwenden. "
   ]
  },
  {
   "cell_type": "code",
   "execution_count": null,
   "id": "1adefd67-7e3a-43c7-afb6-40426896f698",
   "metadata": {},
   "outputs": [],
   "source": []
  },
  {
   "cell_type": "markdown",
   "id": "fa65f701-3463-49c3-b7ce-35920232d609",
   "metadata": {},
   "source": [
    "### Trainieren, Testen, Bewerten\n",
    "\n",
    "Benutzen Sie die verschiedenen Varianten der linearen Regression, um ein Modell der Hauspreise zu erstellen. Was sind die Unterschiede zwischen OLS/Ridge/Lasso/Elastic Net? Finden Sie gute Werte für die Stärke der Regularisierung. Untersuchen Sie, wie sich die Güte, gemessen mit $R^2$ und Adjusted $R^2$, auf den Testdaten verändert. Visualisieren Sie die Koeffizienten als Balkendiagramme, um die Modelle und die Auswirkung der Regularisierung zu verstehen."
   ]
  },
  {
   "cell_type": "code",
   "execution_count": null,
   "id": "72705567-8821-4191-9def-8b452ca7d816",
   "metadata": {},
   "outputs": [],
   "source": []
  },
  {
   "cell_type": "markdown",
   "id": "5d30527c-4a14-432a-b71f-dec98c59962a",
   "metadata": {},
   "source": [
    "### Nichtlineare Regression\n",
    "\n",
    "Verwenden Sie eines der Modelle, die wir zum Abschluss des Kapitels genannt haben, zum Beispiel eine Random Forest Regression. Vergleichen Sie die Güte mit den linearen Modellen."
   ]
  },
  {
   "cell_type": "code",
   "execution_count": null,
   "id": "74dccf2f-2a61-4a0c-ad8c-01bf9847e137",
   "metadata": {},
   "outputs": [],
   "source": []
  }
 ],
 "metadata": {
  "kernelspec": {
   "display_name": "Python 3 (ipykernel)",
   "language": "python",
   "name": "python3"
  },
  "language_info": {
   "codemirror_mode": {
    "name": "ipython",
    "version": 3
   },
   "file_extension": ".py",
   "mimetype": "text/x-python",
   "name": "python",
   "nbconvert_exporter": "python",
   "pygments_lexer": "ipython3",
   "version": "3.8.10"
  }
 },
 "nbformat": 4,
 "nbformat_minor": 5
}
