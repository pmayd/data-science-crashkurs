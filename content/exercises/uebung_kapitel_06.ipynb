{
 "cells": [
  {
   "cell_type": "markdown",
   "id": "9bdfc5f2-fe0b-4623-b571-d91bf077bd88",
   "metadata": {},
   "source": [
    "## Übung zu Kapitel 6\n",
    "\n",
    "In dieser Übung wollen wir das Clustering vertiefen. Das Ziel ist es, die Parameterauswahl und die Interpretation der Cluster bei hochdimensionalen Daten zu üben. Die Interpretation ist auch die größte Schwierigkeit dieser Übung.\n",
    "Als Daten verwenden wir die Bostondaten. Hier noch ein paar Tipps vorweg:\n",
    "\n",
    "- Denken Sie an die Wertebereiche der Merkmale. Diese könnten einen Einfluss auf die Ergebnisse haben.\n",
    "- Durch die Dimensionalität ist es schwierig, die Cluster zu interpretieren. Setzen Sie die PCA und paarweise Scatterplots ein (siehe Kapitel 4). Beide haben gewisse Vor- und Nachteile, auf die Sie hier auch achten können.\n",
    "\n",
    "In jedem der folgenden Aufgabenteile sollten Sie probieren, die Bedeutung jedes Clusters zu bestimmen, also eine Beschreibung der Instanzen, die gemeinsam gruppiert werden, als eine Art Gruppenname.\n",
    "\n",
    "### $k$-Means-Algorithmus\n",
    "\n",
    "Benutzen Sie den $k$-Means-Algorithmus, um die Daten zu clustern. Bestimmen Sie eine geeignete Clusteranzahl $k$. Benutzen Sie Ihr Wissen über die Daten, Visualisierungen und WSS, um eine geeignete Anzahl Cluster zu bestimmen."
   ]
  },
  {
   "cell_type": "code",
   "execution_count": null,
   "id": "0c2e857c-422f-4e11-b5cd-e23a79794f48",
   "metadata": {},
   "outputs": [],
   "source": []
  },
  {
   "cell_type": "markdown",
   "id": "f800aac9-466b-4c73-b25a-aabceca19e64",
   "metadata": {},
   "source": [
    "### EM Clustering\n",
    "\n",
    "Benutzen Sie das EM-Clustering, um die Daten zu clustern. Bestimmen Sie eine geeignete Clusteranzahl $k$. Benutzen Sie Ihr Wissen über die Daten, Visualisierungen und BIC, um eine geeignete Anzahl Cluster zu bestimmen."
   ]
  },
  {
   "cell_type": "code",
   "execution_count": null,
   "id": "1f5d93d4-45b5-4762-8072-8303abb08f82",
   "metadata": {},
   "outputs": [],
   "source": []
  },
  {
   "cell_type": "markdown",
   "id": "cd3b7c0a-85ca-430d-a32d-17515cf24822",
   "metadata": {},
   "source": [
    "### DBSCAN\n",
    "\n",
    "Benutzen Sie DBSCAN, um die Daten zu clustern. Bestimmen Sie geeignete Werte für $\\epsilon$ und $minPts$. Benutzen Sie Ihr Wissen über die Daten und Visualisierungen, um geeignete Werte zu finden."
   ]
  },
  {
   "cell_type": "code",
   "execution_count": null,
   "id": "4b1e3bd7-44c6-4dbe-932b-7a95d4c75def",
   "metadata": {},
   "outputs": [],
   "source": []
  },
  {
   "cell_type": "markdown",
   "id": "fedc635b-b0d6-4014-9d71-f3c9c08718ca",
   "metadata": {},
   "source": [
    "### SLINK\n",
    "\n",
    "Benutzen Sie den SLINK-Algorithmus, um die Daten zu clustern. Bestimmen Sie mithilfe eines Dendrogramms einen geeigneten Grenzwert für die Level."
   ]
  },
  {
   "cell_type": "code",
   "execution_count": null,
   "id": "5e79801e-11fa-4685-86db-91393f92d265",
   "metadata": {},
   "outputs": [],
   "source": []
  },
  {
   "cell_type": "markdown",
   "id": "21b7b82a-4b1d-4532-a00d-7df14ba1fdc5",
   "metadata": {},
   "source": [
    "### Vergleichen Sie die Ergebnisse\n",
    "\n",
    "Vergleichen Sie die Ergebnisse der Algorithmen. Welche Unterschiede gibt es zum Beispiel in der Clusteranzahl und der Form der Cluster? Identifizieren Sie eventuelle Probleme der Algorithmen. "
   ]
  },
  {
   "cell_type": "markdown",
   "id": "0203543c-b77c-416d-83fb-9c8df9fe1635",
   "metadata": {},
   "source": []
  }
 ],
 "metadata": {
  "kernelspec": {
   "display_name": "Python 3 (ipykernel)",
   "language": "python",
   "name": "python3"
  },
  "language_info": {
   "codemirror_mode": {
    "name": "ipython",
    "version": 3
   },
   "file_extension": ".py",
   "mimetype": "text/x-python",
   "name": "python",
   "nbconvert_exporter": "python",
   "pygments_lexer": "ipython3",
   "version": "3.8.10"
  }
 },
 "nbformat": 4,
 "nbformat_minor": 5
}
