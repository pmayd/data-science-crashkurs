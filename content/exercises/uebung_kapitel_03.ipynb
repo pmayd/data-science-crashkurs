{
 "cells": [
  {
   "cell_type": "markdown",
   "id": "5b9aa2a0-73da-4f7d-a3ee-05bf2de533d6",
   "metadata": {},
   "source": [
    "## Übung zu Kapitel 3\n",
    "\n",
    "In der ersten Übung machen wir uns mit dem Arbeiten mit Merkmalen in Python durch *Dataframes* vertraut. Hierbei lernen wir Daten zu laden und zu filtern. Für diese Übung müssen Sie eigenständig die benötigten Funktionen aus der Programmbibliothek [`pandas`](https://pandas.pydata.org/) heraussuchen. Sollten Sie wenig Erfahrung mit Python (oder Programmierung) haben, können Sie diese Übung auch überspringen und sich stattdessen an den Quelltextbeispielen der folgenden Kapitel orientieren. Sie sollten sich aber in jedem Fall zumindest die Aufgaben durchlesen, da das Konzept der Dataframes dort erklärt wird.\n",
    "\n",
    "### Laden von CSV Daten\n",
    "\n",
    "Oft liegen Daten als CSV-Dateien vor. Die erste Zeile beinhaltet die Namen der Merkmale, die folgenden Zeilen jeweils die Werte einer Instanz. Laden Sie sich zuerst die für uns [angepassten Daten über Insolvenzen](https://data-science-crashkurs.de/exercises/data/analcatdata_bankruptcy.csv) herunter. Das Original finden Sie im [*UCI Archive*](https://archive.ics.uci.edu/ml/index.php), einer großen Sammlung von Beispieldatensätzen für maschinelles Lernen. Wir haben diese Daten angepasst, indem wir die Werte einiger Merkmale gelöscht haben.\n",
    "\n",
    "Laden Sie die CSV-Datei in einen *Dataframe* mithilfe der Bibliothek `pandas`. Dataframes sind ähnlich zu Matrizen. Es gibt jedoch einige wesentliche Unterschiede:\n",
    "\n",
    "- Dataframes können einfacher verändert werden, indem man Zeilen/Spalten entfernt.\n",
    "- Die Zeilen und Spalten von Dataframes können benannt sein, werden also nicht nur mithilfe ihres numerischen Indexes identifiziert.\n",
    "- Jede Spalte kann einen anderen Typ haben. Eine Spalte könnte zum Beispiel Zeichenketten beinhalten und eine andere Gleitkommazahlen.\n",
    "\n",
    "Nachdem die Daten geladen sind, geben Sie einige Informationen über die Daten aus:\n",
    "\n",
    "- Wie viele Instanzen gibt es?\n",
    "- Wie viele Merkmale gibt es?\n",
    "- Was sind die Namen der Merkmale?"
   ]
  },
  {
   "cell_type": "code",
   "execution_count": null,
   "id": "cf577fba-9f0b-4522-aba5-65830715e8f4",
   "metadata": {},
   "outputs": [],
   "source": []
  },
  {
   "cell_type": "markdown",
   "id": "494793ef-7c2a-4e5b-a644-e19e94a9a15f",
   "metadata": {},
   "source": [
    "### Entfernen von Merkmalen\n",
    "\n",
    "Entfernen Sie das Merkmal `Company`. "
   ]
  },
  {
   "cell_type": "code",
   "execution_count": null,
   "id": "7e146dfa-20ee-405b-be69-11d13cafa5eb",
   "metadata": {},
   "outputs": [],
   "source": []
  },
  {
   "cell_type": "markdown",
   "id": "6064ab10-8d8e-459e-8219-262914e558ee",
   "metadata": {},
   "source": [
    "### Entfernen von Instanzen mit fehlenden Werten\n",
    "\n",
    "Entfernen Sie alle Instanzen, bei denen ein Wert fehlt. Die fehlenden Werte sind als `NA` in der CSV Datei markiert. Hierdurch sollten fünf Instanzen entfernt werden. "
   ]
  },
  {
   "cell_type": "code",
   "execution_count": null,
   "id": "fb75472d-7890-46f8-af24-14ecb141115f",
   "metadata": {},
   "outputs": [],
   "source": []
  },
  {
   "cell_type": "markdown",
   "id": "68362a10-e95b-468f-89f7-a26183f04801",
   "metadata": {},
   "source": [
    "### Rechnen mit Dataframes\n",
    "\n",
    "Man kann mit Dataframes einfach rechnen. Ergänzen Sie zwei Spalten mit den Ergebnissen folgender Berechnungen:\n",
    "- Die Summe der Spalten `WC/TA` und `RE/TA`\n",
    "- Das Produkt der Spalten `EBIT/TA` und `S/TA`"
   ]
  },
  {
   "cell_type": "code",
   "execution_count": null,
   "id": "e5ddb13f-8e06-437f-af16-689df6e0ee66",
   "metadata": {},
   "outputs": [],
   "source": []
  },
  {
   "cell_type": "markdown",
   "id": "7e139305-7333-4a15-8e39-cd7e1429c441",
   "metadata": {},
   "source": [
    "### Zusammenfügen von Dataframes\n",
    "\n",
    "Laden Sie die Daten ein zweites Mal aus der CSV-Datei. Vereinigen Sie den Dataframe aus der vorigen Aufgabe mit den neu geladenen Daten, sodass gilt:\n",
    "\n",
    "- Das Merkmal `Company` ist wieder Teil des neuen Dataframes.\n",
    "- Die Instanzen mit fehlenden Werten sind weiterhin entfernt.\n",
    "- Die berechneten Merkmale (Summe, Produkt) sind Teil des neuen Dataframes."
   ]
  },
  {
   "cell_type": "code",
   "execution_count": null,
   "id": "bb0918d8-2813-4f03-86ec-1c5b349ac06f",
   "metadata": {},
   "outputs": [],
   "source": []
  },
  {
   "cell_type": "markdown",
   "id": "03172bb5-8bd2-4189-a3b2-8fab9d433674",
   "metadata": {},
   "source": [
    "### Auswahl von Teilmengen\n",
    "\n",
    "Nutzen Sie den zusammengefügten Dataframe, um Teilmengen der Instanzen und Merkmale zu bestimmen:\n",
    "\n",
    "- Die Instanzen 10 bis 20 und alle Merkmale\n",
    "- Die Merkmale in den ersten vier Spalten und alle Instanzen\n",
    "- Die Merkmale `WC/TA` und `EBIT/TA` und alle Instanzen\n",
    "- Alle Merkmale und nur die Instanzen, bei denen `RE/TA` kleiner als -20 ist. \n",
    "- Alle Merkmale und nur die Instanzen, bei denen `RE/RA` kleiner als -20 ist und `bankrupt` null ist.\n",
    "- Nur die Merkmale `WC/TA` und `EBIT/TA` und nur die Instanzen, bei denen `RE/RA` kleiner als -20 ist und `bankrupt` null ist."
   ]
  },
  {
   "cell_type": "code",
   "execution_count": null,
   "id": "d50d9e06-8bb9-419b-ab08-7af7749ce46c",
   "metadata": {},
   "outputs": [],
   "source": []
  }
 ],
 "metadata": {
  "kernelspec": {
   "display_name": "Python 3 (ipykernel)",
   "language": "python",
   "name": "python3"
  },
  "language_info": {
   "codemirror_mode": {
    "name": "ipython",
    "version": 3
   },
   "file_extension": ".py",
   "mimetype": "text/x-python",
   "name": "python",
   "nbconvert_exporter": "python",
   "pygments_lexer": "ipython3",
   "version": "3.8.10"
  }
 },
 "nbformat": 4,
 "nbformat_minor": 5
}
