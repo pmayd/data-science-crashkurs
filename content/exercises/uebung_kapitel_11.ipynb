{
 "cells": [
  {
   "cell_type": "markdown",
   "id": "8f08551b-bd44-410c-918e-ecc1781966bf",
   "metadata": {},
   "source": [
    "## Übung zu Kapitel 11\n",
    "\n",
    "In dieser Übung wenden wir die eingeführten statistischen Methoden zum besseren Verständnis an. Hierzu vergleichen wir verschiedene Klassifikationsmodelle auf den [Irisdaten](https://scikit-learn.org/stable/modules/generated/sklearn.datasets.load_iris.html). \n",
    "\n",
    "### Mehrfaches Training\n",
    "\n",
    "Erstellen Sie fünf zufällige Aufteilungen der Irisdaten in je 50% Trainingsdaten und 50% Testdaten. Trainieren Sie ein 5-Nearest-Neighbor-Modell und einen Random Forest (mit 100 Random Trees) für jede dieser Aufteilungen. Berechnen Sie die Güte für jedes dieser Modelle mit MCC und erstellen Sie für jedes Modell eine Liste mit den Ergebnissen."
   ]
  },
  {
   "cell_type": "code",
   "execution_count": null,
   "id": "8f2e135f-ead6-41b8-9340-160d2df5b3e3",
   "metadata": {},
   "outputs": [],
   "source": []
  },
  {
   "cell_type": "markdown",
   "id": "bdd241d8-9ae0-4ecc-949c-c0fe9cec9a7f",
   "metadata": {},
   "source": [
    "### Statistischer Vergleich\n",
    "\n",
    "Vergleichen Sie das arithmetische Mittel, die Standardabweichung, den Median, das Minimum und das Maximum des MCC für beide Algorithmen. Benutzen Sie geeignete statistische Tests, um zu bestimmen, ob der Unterschied signifikant ist. Falls der Unterschied signifikant ist, berechnen Sie Cohens $d$, um die Effektstärke zu bestimmen. Berechnen Sie außerdem das 95%-Konfidenzintervall des arithmetischen Mittels von MCC."
   ]
  },
  {
   "cell_type": "code",
   "execution_count": null,
   "id": "8bbbcab5-0e7e-4819-b4ce-f4cb47d53e9a",
   "metadata": {},
   "outputs": [],
   "source": []
  },
  {
   "cell_type": "markdown",
   "id": "c5cb452b-a742-4ee7-9410-3b48c82c6421",
   "metadata": {},
   "source": [
    "### Mehr Vergleiche\n",
    "\n",
    "Wiederholen Sie diese Auswertung mit 10, 50 und 100 zufälligen Aufteilungen der Irisdaten. Wie verändern sich die Ergebnisse?"
   ]
  },
  {
   "cell_type": "code",
   "execution_count": null,
   "id": "a70edda4-19f2-41e8-9185-6902826ac008",
   "metadata": {},
   "outputs": [],
   "source": []
  }
 ],
 "metadata": {
  "kernelspec": {
   "display_name": "Python 3 (ipykernel)",
   "language": "python",
   "name": "python3"
  },
  "language_info": {
   "codemirror_mode": {
    "name": "ipython",
    "version": 3
   },
   "file_extension": ".py",
   "mimetype": "text/x-python",
   "name": "python",
   "nbconvert_exporter": "python",
   "pygments_lexer": "ipython3",
   "version": "3.8.10"
  }
 },
 "nbformat": 4,
 "nbformat_minor": 5
}
