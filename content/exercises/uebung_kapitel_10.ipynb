{
 "cells": [
  {
   "cell_type": "markdown",
   "id": "ef037aea-db53-434e-9373-37f778de9e48",
   "metadata": {},
   "source": [
    "## Übung zu Kapitel 10\n",
    "\n",
    "In dieser Übung wollen wir das Text Mining mit einem größeren Beispiel vertiefen. Hierzu verwenden wir eine Erweiterung der oben genannten Tweets: Statt nur acht Tweets betrachten wir den vollständigen Korpus der [Tweets von Donald Trump aus dem Jahr 2017](https://data-science-crashkurs.de/exercises/data/trump-tweets-2017.txt). \n",
    "\n",
    "### Wortwolke ohne Preprocessing\n",
    "\n",
    "Laden Sie die Daten. Erstellen Sie eine Wortwolke ohne jegliches Preprocessing. Welche Probleme gibt es? Was erkennt man eventuell trotzdem bereits?"
   ]
  },
  {
   "cell_type": "code",
   "execution_count": null,
   "id": "42582b95-3e08-48f0-a8c4-1d0a0c03e214",
   "metadata": {},
   "outputs": [],
   "source": []
  },
  {
   "cell_type": "markdown",
   "id": "753f451a-d300-4c80-9bff-05d29cafc633",
   "metadata": {},
   "source": [
    "### Wortwolke mit Preprocessing\n",
    "\n",
    "Wenden Sie die Preprocessing-Schritte, die wir diskutiert haben, an und erstellen Sie eine neue Wortwolke."
   ]
  },
  {
   "cell_type": "code",
   "execution_count": null,
   "id": "2196aca0-9b0c-4840-863f-ddd12c062ef1",
   "metadata": {},
   "outputs": [],
   "source": []
  },
  {
   "cell_type": "markdown",
   "id": "5182ab63-f9fd-45ed-960c-cac88d4b3bb5",
   "metadata": {},
   "source": [
    "### TF-IDF\n",
    "\n",
    "Die Wortwolken benutzen üblicherweise die Worthäufigkeiten. Berechnen Sie die TF-IDF und erstellen Sie neue Wortwolken basierend auf den auf diese Art gewichteten Worthäufigkeiten. Wie verändert sich das Ergebnis?"
   ]
  },
  {
   "cell_type": "code",
   "execution_count": null,
   "id": "56b3f6c4-bc4c-4782-b967-c7a55b540c56",
   "metadata": {},
   "outputs": [],
   "source": []
  }
 ],
 "metadata": {
  "kernelspec": {
   "display_name": "Python 3 (ipykernel)",
   "language": "python",
   "name": "python3"
  },
  "language_info": {
   "codemirror_mode": {
    "name": "ipython",
    "version": 3
   },
   "file_extension": ".py",
   "mimetype": "text/x-python",
   "name": "python",
   "nbconvert_exporter": "python",
   "pygments_lexer": "ipython3",
   "version": "3.8.10"
  }
 },
 "nbformat": 4,
 "nbformat_minor": 5
}
