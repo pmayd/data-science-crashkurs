{
 "cells": [
  {
   "cell_type": "markdown",
   "id": "8ea83ed1-7bdb-410c-bc65-176abc8c9af6",
   "metadata": {},
   "source": [
    "## Übung zu Kapitel 4\n",
    "\n",
    "In der ersten praktischen Übung geht es darum, selbst einige Daten zu erkunden. Hierzu benutzen wir wieder die Bostondaten, die wir vorher schon in diesem Kapitel verwendet haben.\n",
    "\n",
    "### Deskriptive Statistiken\n",
    "\n",
    "Untersuchen Sie die Bostondaten mithilfe von deskriptiven Statistiken. Berechnen Sie die Lage durch das arithmetische Mittel und den Median, die Variabilität durch die Standardabweichung und den IQR sowie die Datenbereiche der Merkmale. Das Ziel dieser Aufgabe ist aber nicht die Berechnung dieser Werte, sondern ihre Interpretation. Überlegen Sie sich zum Beispiel, was man über das Merkmal CRIM über das arithmetische Mittel und den Median lernt."
   ]
  },
  {
   "cell_type": "code",
   "execution_count": null,
   "id": "1b7a1f10-6fbe-424c-86da-d4fce6bde10d",
   "metadata": {},
   "outputs": [],
   "source": []
  },
  {
   "cell_type": "markdown",
   "id": "fc9615f7-833d-4536-b8c6-e8fb1c4702e0",
   "metadata": {},
   "source": [
    "### Visualisierungen einzelner Merkmale\n",
    "\n",
    "Schauen Sie sich die Merkmale `zn` und `indus` mithilfe von Histogrammen und Densityplots (mit und ohne Rug) an. Was lernen Sie über diese Daten? Was sind die Vor- und Nachteile der verschiedenen Visualisierungen?"
   ]
  },
  {
   "cell_type": "code",
   "execution_count": null,
   "id": "aa0a817d-6a55-4b3c-8811-27937d2ef272",
   "metadata": {},
   "outputs": [],
   "source": []
  },
  {
   "cell_type": "markdown",
   "id": "7d112c14-a1f4-4892-b2d0-97f824b68e5c",
   "metadata": {},
   "source": [
    "### Paarweise Beziehungen\n",
    "\n",
    "Betrachten Sie die paarweisen Beziehungen der Bostondaten. Benutzen Sie hierfür Scatterplots und eine Korrelations-Heatmap. Was lernen Sie über die Beziehungen aus den Daten? Beachten Sie hierbei insbesondere auch, ob Sie ethisch problematische Eigenschaften finden."
   ]
  },
  {
   "cell_type": "code",
   "execution_count": null,
   "id": "09d7fb51-57fd-41ad-9df3-4b0334a824ff",
   "metadata": {},
   "outputs": [],
   "source": []
  }
 ],
 "metadata": {
  "kernelspec": {
   "display_name": "Python 3 (ipykernel)",
   "language": "python",
   "name": "python3"
  },
  "language_info": {
   "codemirror_mode": {
    "name": "ipython",
    "version": 3
   },
   "file_extension": ".py",
   "mimetype": "text/x-python",
   "name": "python",
   "nbconvert_exporter": "python",
   "pygments_lexer": "ipython3",
   "version": "3.8.10"
  }
 },
 "nbformat": 4,
 "nbformat_minor": 5
}
