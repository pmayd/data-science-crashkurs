{
 "cells": [
  {
   "cell_type": "markdown",
   "id": "2ee40cd3-ca6f-4bd6-8b3e-d15a8b043adf",
   "metadata": {},
   "source": [
    "## Übung zu Kapitel 5\n",
    "\n",
    "\n",
    "Prüfen Sie Ihr Wissen über Assoziationsregeln in einer praktischen Übung. Lernen Sie hierbei Assoziationsregeln aus einem [Datensatz aus einem Supermarkt](https://data-science-crashkurs.de/exercises/data/store_data.csv). Zum Lesen der Daten können Sie folgenden Quelltext nutzen."
   ]
  },
  {
   "cell_type": "code",
   "execution_count": null,
   "id": "0e9c6a33-652a-4626-a3c9-a0db24c1fe15",
   "metadata": {},
   "outputs": [],
   "source": [
    "with open('store_data.csv') as f:\n",
    "    records = []\n",
    "    for line in f:\n",
    "        records.append(line.strip().split(','))"
   ]
  },
  {
   "cell_type": "markdown",
   "id": "a56343fc-19bc-4dd9-9a27-ad466a64dfb5",
   "metadata": {},
   "source": [
    "### Finden von Frequent Itemsets\n",
    "\n",
    "Nutzen Sie den Apriori-Algorithmus, um Frequent Itemsets zu finden. Hierzu müssen Sie auch einen geeigneten Grenzwert für den Support bestimmen. Begründen Sie Ihre Wahl."
   ]
  },
  {
   "cell_type": "code",
   "execution_count": null,
   "id": "2068f3f2-d9bd-43d6-909d-db480e1ed675",
   "metadata": {},
   "outputs": [],
   "source": []
  },
  {
   "cell_type": "markdown",
   "id": "054b0056-8bf3-4f83-a426-a102c1fa84b3",
   "metadata": {},
   "source": [
    "### Erstellen von Regeln\n",
    "\n",
    "Erstellen Sie Regeln aus den Frequent Itemsets. Nutzen Sie Lift und Confidence, um zu ermitteln, welche Regeln gut sind."
   ]
  },
  {
   "cell_type": "code",
   "execution_count": null,
   "id": "286840d4-1257-4912-b40b-fb47bc35ab7c",
   "metadata": {},
   "outputs": [],
   "source": []
  },
  {
   "cell_type": "markdown",
   "id": "97c7411e-f0ca-434b-b22d-6b243ae5505c",
   "metadata": {},
   "source": [
    "### Validieren der Regeln\n",
    "\n",
    "Teilen Sie die Daten zufällig in zwei Datensätze mit je 50% der Transaktionen auf. Wenden Sie den Apriori-Algorithmus auf beide Datensätze an, um Regeln zu bestimmen. Vergleichen Sie die gefundenen Regeln miteinander sowie mit den Regeln, die Sie auf allen Daten gefunden haben. Welche Unterschiede gibt es? Was bedeuten die Unterschiede?"
   ]
  },
  {
   "cell_type": "code",
   "execution_count": null,
   "id": "c98a2beb-2294-448f-b808-9128e79f576e",
   "metadata": {},
   "outputs": [],
   "source": []
  }
 ],
 "metadata": {
  "kernelspec": {
   "display_name": "Python 3 (ipykernel)",
   "language": "python",
   "name": "python3"
  },
  "language_info": {
   "codemirror_mode": {
    "name": "ipython",
    "version": 3
   },
   "file_extension": ".py",
   "mimetype": "text/x-python",
   "name": "python",
   "nbconvert_exporter": "python",
   "pygments_lexer": "ipython3",
   "version": "3.8.10"
  }
 },
 "nbformat": 4,
 "nbformat_minor": 5
}
